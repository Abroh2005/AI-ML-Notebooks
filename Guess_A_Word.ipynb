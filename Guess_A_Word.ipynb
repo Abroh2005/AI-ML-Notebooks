{
  "nbformat": 4,
  "nbformat_minor": 0,
  "metadata": {
    "colab": {
      "provenance": [],
      "authorship_tag": "ABX9TyPpTM6jA7hDk25dpPIbFUhc",
      "include_colab_link": true
    },
    "kernelspec": {
      "name": "python3",
      "display_name": "Python 3"
    },
    "language_info": {
      "name": "python"
    }
  },
  "cells": [
    {
      "cell_type": "markdown",
      "metadata": {
        "id": "view-in-github",
        "colab_type": "text"
      },
      "source": [
        "<a href=\"https://colab.research.google.com/github/Abroh2005/colabnotebook/blob/main/Guess_A_Word.ipynb\" target=\"_parent\"><img src=\"https://colab.research.google.com/assets/colab-badge.svg\" alt=\"Open In Colab\"/></a>"
      ]
    },
    {
      "cell_type": "markdown",
      "metadata": {
        "id": "UYmMpXkNw9I6"
      },
      "source": [
        "# Guess A Word - Strings, Tuples & Dictionaries"
      ]
    },
    {
      "cell_type": "markdown",
      "metadata": {
        "id": "2i36Yv3-MPY5"
      },
      "source": [
        "### Problem Statement\n",
        "\n",
        "In this project, you have to write a computer program to create an interactive game application called **Guess A Word**. The game must have the following major components:\n",
        "\n",
        "1. A repository of English words, their parts of speech and their meanings.\n",
        "\n",
        "2. Another repository containing the player's name, the number of guesses made by them and the time taken (in seconds) to guess the words.\n",
        "\n",
        "3. A function to jumble the letters of the English words.\n",
        "\n",
        "4. A timer to calculate the total time taken by a player to guess the words.\n",
        "\n",
        "5. Display a word such that its letters are jumbled, its part of speech and its meaning. Then prompt the player to guess the word one-by-one.  \n",
        "\n",
        "6. Check whether the player had guessed the correct word.\n",
        "\n",
        "7. Keep a count of the player's correct guesses."
      ]
    },
    {
      "cell_type": "markdown",
      "metadata": {
        "id": "toeLx5LJpIV-"
      },
      "source": [
        "### Project Requirements\n",
        "\n",
        "1. Create the `my_words` tuple which should contain the following 10 words, their parts of speech and their meanings as shown in the image below.\n",
        "\n",
        "  <img src='https://student-datasets-bucket.s3.ap-south-1.amazonaws.com/images/project10_tuple_eg.png'>\n",
        "\n",
        "2. Create an empty tuple. Call it `records`.\n",
        "\n",
        "3. Create the `shuffler()` function which returns a string having jumbled letters of a word.\n",
        "\n",
        "3. Create the `count` variable to store the counts of the player's guess.\n",
        "\n",
        "4. Create a `for` to run the game.\n",
        "\n",
        "5. Calculate the time taken by a player (`tdelta`) to guess the words.\n",
        "\n",
        "6. Add the records for a player in the `records` tuple.\n",
        "\n",
        "7. Display the time taken by the player (`tdelta`) to guess the words.\n",
        "\n",
        "8. Print all the words, their parts of speech and their meanings in a tabular format.\n",
        "\n",
        "9. Print all the values of the `records` tuple.\n"
      ]
    },
    {
      "cell_type": "code",
      "metadata": {
        "id": "1IjV8AOYscqS"
      },
      "source": [
        "# Create 'my_words' & 'records' tuples.\n",
        "my_words=((\"questionnaire\",\"noun\",\"a list of questions survey\"),\n",
        "          (\"unconscious\",\"adjective\",\"not conscious or without awareness\"),\n",
        "          (\"precocious\",\"adjective\",\"unusually mature, especially in mental developement\"),\n",
        "          (\"liaison\",\"noun\",\"a person who maintains a connection between people or groups\"),\n",
        "          (\"survellance\",\"noun\",\"continous observation of a person, place, or activity in orde to gather information\"),\n",
        "          (\"malfeasance\",\"noun\",\"conduct by a public official that violates the public trust or is against the law\"),\n",
        "          (\"irascible\",\"adjective\",\"irritable or quick tempered\"),\n",
        "          (\"idiosyncrasy\",\"noun\",\"a tendency, habbit or mannerism that is peculiar to an indivisual; a quirk\"),\n",
        "          (\"foudroyant\",\"adjective\",\"sudden or overwhelming or stunning\"),\n",
        "          (\"eudemonic\",\"adjective\",\"pertaining to conducive to happiness\"))\n",
        "records=()"
      ],
      "execution_count": null,
      "outputs": []
    },
    {
      "cell_type": "code",
      "metadata": {
        "id": "kjgKfMT-Jp9q",
        "colab": {
          "base_uri": "https://localhost:8080/",
          "height": 36
        },
        "outputId": "03196c03-b42e-495a-8266-5a764d61772a"
      },
      "source": [
        "# Create the 'shuffler()' function.\n",
        "def shuffler(w):\n",
        "  l=list(w)\n",
        "  import random\n",
        "  random.shuffle(l)\n",
        "  n=\"\".join(l)\n",
        "  return n\n",
        "shuffler(\"join\")"
      ],
      "execution_count": null,
      "outputs": [
        {
          "output_type": "execute_result",
          "data": {
            "text/plain": [
              "'ijon'"
            ],
            "application/vnd.google.colaboratory.intrinsic+json": {
              "type": "string"
            }
          },
          "metadata": {},
          "execution_count": 2
        }
      ]
    },
    {
      "cell_type": "code",
      "execution_count": null,
      "metadata": {
        "id": "ur5-VYHThr9G"
      },
      "outputs": [],
      "source": [
        "import time\n",
        "c=0\n",
        "t=time.time()\n",
        "print(\"Guess The Word\\n\")\n",
        "player_name=input(\"Enter your name:\")\n",
        "print(\"\\n Type 's' to stop the game\\n\")\n",
        "for i in my_words:\n",
        "  print(f\"Jumbled Letters : {shufler(i[0])}\\n Part of Speech : {i[1]}\\n Meaning : {i[2]}\\n\")\n",
        "  iw=input(\"Enter the Word\")\n",
        "  if iw==\"s\":\n",
        "    break\n",
        "  elif iw==i[0]:\n",
        "    print(\"Correct\")\n",
        "    c+=1\n",
        "  else:\n",
        "    print(f\"Wrong\\nCorrect Word is : {i[0]}\")\n",
        "td=time.time()-t\n",
        "records=records+({\"Name\":player_name,\"Guess Count\":c,\"Time Taken\":round(td,2)},)\n",
        "if td<59:\n",
        "  print(f\"You answered {c} correctly in {td} seconds\")\n",
        "else:\n",
        "  print(f\"You answered {c} correctly in {td/60:.0f} minutes, {td%60:.0f} seconds\")\n"
      ]
    }
  ]
}