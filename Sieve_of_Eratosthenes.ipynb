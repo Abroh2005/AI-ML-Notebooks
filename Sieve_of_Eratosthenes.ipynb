{
  "nbformat": 4,
  "nbformat_minor": 0,
  "metadata": {
    "colab": {
      "provenance": [],
      "authorship_tag": "ABX9TyPgdrwLpvb67Xte39efs+jk",
      "include_colab_link": true
    },
    "kernelspec": {
      "name": "python3",
      "display_name": "Python 3"
    },
    "language_info": {
      "name": "python"
    }
  },
  "cells": [
    {
      "cell_type": "markdown",
      "metadata": {
        "id": "view-in-github",
        "colab_type": "text"
      },
      "source": [
        "<a href=\"https://colab.research.google.com/github/Abroh2005/colabnotebook/blob/main/Sieve_of_Eratosthenes.ipynb\" target=\"_parent\"><img src=\"https://colab.research.google.com/assets/colab-badge.svg\" alt=\"Open In Colab\"/></a>"
      ]
    },
    {
      "cell_type": "markdown",
      "metadata": {
        "id": "ntPNnyq6EMJk"
      },
      "source": [
        "### The **Sieve of Eratosthenes** Algorithm\n",
        "\n",
        "The Sieve of Eratosthenes is an algorithm which allows us to extract prime numbers (or primes) from a given list of natural numbers.\n",
        "\n",
        "*An algorithm is a well-defined and well-structured set of instructions to perform a specific task*.\n",
        "\n",
        "The Sieve of Eratosthenes algorithm finds primes up to a number, say 50, by eliminating every multiple of a prime number (starting from 2).\n",
        "\n",
        "<img src='https://drive.google.com/uc?id=1EGqif9JT_4JExYaLUUTQA1QLZ6UpREUy' width=300>\n",
        "\n",
        "It also assumes that every number between 2 and 50 is a prime number (even though they are actually not prime). Hence, all the multiples of a number (except the number itself) must be discarded from the list.\n",
        "\n",
        "For e.g., in a list containing the natural numbers between 2 and 50, assume that\n",
        "\n",
        "- 2 is a prime number so all of its multiples (except 2), i.e., 4, 6, 8... must be discarded\n",
        "\n",
        "  <img src='https://drive.google.com/uc?id=1ZvPfhK0AhdFK6zF_frQ-YYsRfb_-doRe' width=300>\n",
        "\n",
        "- 3 is a prime number so all of its multiples (except 3), i.e., 3, 6, 9... must be discarded\n",
        "\n",
        "  <img src='https://drive.google.com/uc?id=1POSGQ8kf145SoGcAHqwcGFhscuzcOl1J' width=300>\n",
        "\n",
        "\n",
        "- 4 is a prime number so all of its multiples (except 4), i.e., 8, 12, 16... must be discarded. Since every multiple of 4 is also a multiple of 2 so, they already got discarded in the first step.\n",
        "\n",
        "  <img src='https://drive.google.com/uc?id=1POSGQ8kf145SoGcAHqwcGFhscuzcOl1J' width=300>\n",
        "\n",
        "- 5 is a prime number so all of its multiples (except 5), i.e., 5, 10, 15... must be discarded.\n",
        "\n",
        "  <img src='https://drive.google.com/uc?id=1GC9gaFj32sC-xAw1wKiFb7qWJ6er35xS' width=300>\n",
        "\n",
        "This process is continued until all the **actual non-prime numbers** are discarded from the list.\n",
        "\n",
        "You can read more about this algorithm by clicking on the link provided below.\n",
        "\n",
        "[Sieve of Eratosthenes](https://en.wikipedia.org/wiki/Sieve_of_Eratosthenes)\n",
        "\n",
        "As a part of this project, you need to implement the Sieve of Eratosthenes algorithm in Python. But before that, let's quickly revisit the `range()` function because it will be very useful to you in implementing this algorithm in Python."
      ]
    },
    {
      "cell_type": "code",
      "execution_count": null,
      "metadata": {
        "id": "uS040ZAfK9Ks"
      },
      "outputs": [],
      "source": [
        "n = input(\"Enter the upper limit:\")\n",
        "n=int(n)\n",
        "primes=[i for i in range(0,n+1)]\n",
        "\n",
        "for prime in range(2,len(primes)):\n",
        "  current_number=prime\n",
        "  if current_number!=0:\n",
        "    for i in range(current_number*2,len(primes),current_number):\n",
        "      primes[i]=0\n",
        "print(\"ThePrime Numbers are:\\n\")\n",
        "for i in range(2,len(primes)):\n",
        "  if primes[i]!=0:\n",
        "    print(\"\\t\",primes[i])"
      ]
    }
  ]
}